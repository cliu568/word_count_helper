{
 "cells": [
  {
   "cell_type": "code",
   "execution_count": 59,
   "metadata": {},
   "outputs": [],
   "source": [
    "import numpy as np\n",
    "def is_char(c):\n",
    "    d = c - 'a'\n",
    "    if(d >=0 and d<=25):\n",
    "        return True\n",
    "    d = c - 'A'\n",
    "    if(d>=0 and d <=25):\n",
    "        return True\n",
    "    return False\n",
    "\n",
    "def parse(s):\n",
    "    words = []\n",
    "    l = len(s)\n",
    "    curr = 0\n",
    "    for i in range(l):\n",
    "        if(s[i] ==' '):\n",
    "            if(s[curr:i] != ''):\n",
    "                words.append(s[curr:i])\n",
    "            curr = i+1\n",
    "    if(curr < l):\n",
    "        words.append(s[curr:l])\n",
    "        \n",
    "    return words\n",
    "\n",
    "    \n",
    "\n"
   ]
  },
  {
   "cell_type": "code",
   "execution_count": 47,
   "metadata": {},
   "outputs": [],
   "source": [
    "def diff(s1,s2):\n",
    "    l1 = len(s1)\n",
    "    l2 = len(s2)\n",
    "    dp = np.zeros((l1+5,l2+5))\n",
    "    operations = [['' for i in range(l2+5)] for j in range(l1+5)]\n",
    "    for i in range(l1):\n",
    "        dp[i][l2] = l1 - i \n",
    "        operations[i][l2] = '-'+ s1[i]\n",
    "        \n",
    "    for j in range(l2):\n",
    "        dp[l1][j] = l2 - j\n",
    "        operations[l1][j] = '+' + s2[j]\n",
    "    \n",
    "    for i in range(l1):\n",
    "        for j in range(l2):\n",
    "            if(s1[l1-i-1] == s2[l2-j-1]):\n",
    "                case_equal = dp[l1-i][l2-j]\n",
    "            else:\n",
    "                case_equal = l1 + l2 + 10\n",
    "            case_insert = dp[l1-i-1][l2-j] + 1\n",
    "            case_delete = dp[l1 - i ][l2 - j - 1 ] + 1\n",
    "            \n",
    "            \n",
    "            if(case_equal == min(case_equal, case_insert, case_delete)):\n",
    "                dp[l1-i-1][l2-j-1] = case_equal\n",
    "                operations[l1-i-1][l2-j-1] = s1[l1-i-1]\n",
    "                \n",
    "            if(case_insert == min(case_equal, case_insert, case_delete)):\n",
    "                dp[l1-i-1][l2-j-1] = case_insert\n",
    "                operations[l1-i-1][l2-j-1] = '+' + s2[l2-j-1]\n",
    "                \n",
    "            if(case_delete == min(case_equal, case_insert, case_delete)):\n",
    "                dp[l1-i-1][l2-j-1] = case_delete\n",
    "                operations[l1-i-1][l2-j-1] = '-'+s1[l1-i-1]\n",
    "                \n",
    "                \n",
    "    i = 0\n",
    "    j = 0\n",
    "    output = ''\n",
    "    while(i < l1 or j < l2):\n",
    "        output += operations[i][j]\n",
    "        output += \"&\"\n",
    "        \n",
    "            \n",
    "        if(operations[i][j][0] =='-'):\n",
    "            i += 1\n",
    "            \n",
    "        elif(operations[i][j][0] == '+'):\n",
    "            j += 1\n",
    "        \n",
    "        else:\n",
    "            i += 1\n",
    "            j += 1\n",
    "            \n",
    "            \n",
    "    return (output, dp[0][0],operations)\n",
    "                \n",
    "        \n",
    "\n",
    "        \n",
    "\n",
    "            "
   ]
  },
  {
   "cell_type": "code",
   "execution_count": 64,
   "metadata": {},
   "outputs": [
    {
     "name": "stdout",
     "output_type": "stream",
     "text": [
      "('I&-knew&+know&+the&woods&-so&-dark&-that&+are&+too&+dark,&my&hands&-disappeared&-before&+are&+gone&+in&+front&+of&my&eyes&', 16.0, [['I', '-I', '-I', '-I', '-I', '-I', '-I', '-I', '-I', '-I', '-I', '-I', '-I', '-I', '-I', '-I', '-I', '', '', '', ''], ['-knew', '-knew', '-knew', '-knew', '-knew', '-knew', '-knew', '-knew', '-knew', '-knew', '-knew', '-knew', '-knew', '-knew', '-knew', '-knew', '-knew', '', '', '', ''], ['+I', '+know', '+the', 'woods', '-woods', '-woods', '-woods', '-woods', '-woods', '-woods', '-woods', '-woods', '-woods', '-woods', '-woods', '-woods', '-woods', '', '', '', ''], ['-so', '-so', '-so', '-so', '-so', '-so', '-so', '-so', '-so', '-so', '-so', '-so', '-so', '-so', '-so', '-so', '-so', '', '', '', ''], ['-dark', '-dark', '-dark', '-dark', '-dark', '-dark', '-dark', '-dark', '-dark', '-dark', '-dark', '-dark', '-dark', '-dark', '-dark', '-dark', '-dark', '', '', '', ''], ['-that', '-that', '-that', '-that', '-that', '-that', '-that', '-that', '-that', '-that', '-that', '-that', '-that', '-that', '-that', '-that', '-that', '', '', '', ''], ['+I', '+know', '+the', '+woods', '+are', '+too', '+dark,', 'my', '-my', '-my', '-my', '-my', '-my', '-my', '-my', '-my', '-my', '', '', '', ''], ['+I', '+know', '+the', '+woods', '+are', '+too', '+dark,', '+my', 'hands', '-hands', '-hands', '-hands', '-hands', '-hands', '-hands', '-hands', '-hands', '', '', '', ''], ['-disappeared', '-disappeared', '-disappeared', '-disappeared', '-disappeared', '-disappeared', '-disappeared', '-disappeared', '-disappeared', '-disappeared', '-disappeared', '-disappeared', '-disappeared', '-disappeared', '-disappeared', '-disappeared', '-disappeared', '', '', '', ''], ['-before', '-before', '-before', '-before', '-before', '-before', '-before', '-before', '-before', '-before', '-before', '-before', '-before', '-before', '-before', '-before', '-before', '', '', '', ''], ['+I', '+know', '+the', '+woods', '+are', '+too', '+dark,', '+my', '+hands', '+are', '+gone', '+in', '+front', '+of', 'my', '-my', '-my', '', '', '', ''], ['+I', '+know', '+the', '+woods', '+are', '+too', '+dark,', '+my', '+hands', '+are', '+gone', '+in', '+front', '+of', '+my', 'eyes', '-eyes', '', '', '', ''], ['+I', '+know', '+the', '+woods', '+are', '+too', '+dark,', '+my', '+hands', '+are', '+gone', '+in', '+front', '+of', '+my', '+eyes', '', '', '', '', ''], ['', '', '', '', '', '', '', '', '', '', '', '', '', '', '', '', '', '', '', '', ''], ['', '', '', '', '', '', '', '', '', '', '', '', '', '', '', '', '', '', '', '', ''], ['', '', '', '', '', '', '', '', '', '', '', '', '', '', '', '', '', '', '', '', ''], ['', '', '', '', '', '', '', '', '', '', '', '', '', '', '', '', '', '', '', '', '']])\n"
     ]
    }
   ],
   "source": [
    "print(diff(parse(\"I knew woods so dark that my hands disappeared before my eyes\"),parse(\"I know the woods are too dark, my hands are gone in front of my eyes\")))"
   ]
  },
  {
   "cell_type": "code",
   "execution_count": null,
   "metadata": {
    "collapsed": true
   },
   "outputs": [],
   "source": []
  }
 ],
 "metadata": {
  "kernelspec": {
   "display_name": "Python 3",
   "language": "python",
   "name": "python3"
  },
  "language_info": {
   "codemirror_mode": {
    "name": "ipython",
    "version": 3
   },
   "file_extension": ".py",
   "mimetype": "text/x-python",
   "name": "python",
   "nbconvert_exporter": "python",
   "pygments_lexer": "ipython3",
   "version": "3.5.3"
  }
 },
 "nbformat": 4,
 "nbformat_minor": 2
}
